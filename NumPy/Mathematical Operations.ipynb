{
 "cells": [
  {
   "cell_type": "code",
   "execution_count": 28,
   "id": "e38990af",
   "metadata": {},
   "outputs": [
    {
     "data": {
      "text/plain": [
       "[1, 2, 3, 4, 5, 6, 7, 8, 9, 0]"
      ]
     },
     "execution_count": 28,
     "metadata": {},
     "output_type": "execute_result"
    }
   ],
   "source": [
    "import numpy as np\n",
    "from sklearn.datasets import load_wine\n",
    "a = [1,2,3,4,5,6,7,8,9,0]\n",
    "a"
   ]
  },
  {
   "cell_type": "code",
   "execution_count": 35,
   "id": "4894a08c",
   "metadata": {},
   "outputs": [
    {
     "data": {
      "text/plain": [
       "[[1, 2, 3],\n",
       " [1, 2, 3],\n",
       " [1, 2, 3],\n",
       " [1, 2, 3],\n",
       " [1, 2, 3],\n",
       " [1, 2, 3],\n",
       " [1, 2, 3],\n",
       " [1, 2, 3],\n",
       " [1, 2, 3],\n",
       " [1, 2, 3]]"
      ]
     },
     "execution_count": 35,
     "metadata": {},
     "output_type": "execute_result"
    }
   ],
   "source": [
    "arr = [[1, 2, 3]]\n",
    "arr\n",
    "arr * 10"
   ]
  },
  {
   "cell_type": "code",
   "execution_count": 30,
   "id": "2b907162",
   "metadata": {},
   "outputs": [
    {
     "data": {
      "text/plain": [
       "{'data': array([[1.423e+01, 1.710e+00, 2.430e+00, ..., 1.040e+00, 3.920e+00,\n",
       "         1.065e+03],\n",
       "        [1.320e+01, 1.780e+00, 2.140e+00, ..., 1.050e+00, 3.400e+00,\n",
       "         1.050e+03],\n",
       "        [1.316e+01, 2.360e+00, 2.670e+00, ..., 1.030e+00, 3.170e+00,\n",
       "         1.185e+03],\n",
       "        ...,\n",
       "        [1.327e+01, 4.280e+00, 2.260e+00, ..., 5.900e-01, 1.560e+00,\n",
       "         8.350e+02],\n",
       "        [1.317e+01, 2.590e+00, 2.370e+00, ..., 6.000e-01, 1.620e+00,\n",
       "         8.400e+02],\n",
       "        [1.413e+01, 4.100e+00, 2.740e+00, ..., 6.100e-01, 1.600e+00,\n",
       "         5.600e+02]]),\n",
       " 'target': array([0, 0, 0, 0, 0, 0, 0, 0, 0, 0, 0, 0, 0, 0, 0, 0, 0, 0, 0, 0, 0, 0,\n",
       "        0, 0, 0, 0, 0, 0, 0, 0, 0, 0, 0, 0, 0, 0, 0, 0, 0, 0, 0, 0, 0, 0,\n",
       "        0, 0, 0, 0, 0, 0, 0, 0, 0, 0, 0, 0, 0, 0, 0, 1, 1, 1, 1, 1, 1, 1,\n",
       "        1, 1, 1, 1, 1, 1, 1, 1, 1, 1, 1, 1, 1, 1, 1, 1, 1, 1, 1, 1, 1, 1,\n",
       "        1, 1, 1, 1, 1, 1, 1, 1, 1, 1, 1, 1, 1, 1, 1, 1, 1, 1, 1, 1, 1, 1,\n",
       "        1, 1, 1, 1, 1, 1, 1, 1, 1, 1, 1, 1, 1, 1, 1, 1, 1, 1, 1, 1, 2, 2,\n",
       "        2, 2, 2, 2, 2, 2, 2, 2, 2, 2, 2, 2, 2, 2, 2, 2, 2, 2, 2, 2, 2, 2,\n",
       "        2, 2, 2, 2, 2, 2, 2, 2, 2, 2, 2, 2, 2, 2, 2, 2, 2, 2, 2, 2, 2, 2,\n",
       "        2, 2]),\n",
       " 'frame': None,\n",
       " 'target_names': array(['class_0', 'class_1', 'class_2'], dtype='<U7'),\n",
       " 'DESCR': '.. _wine_dataset:\\n\\nWine recognition dataset\\n------------------------\\n\\n**Data Set Characteristics:**\\n\\n    :Number of Instances: 178 (50 in each of three classes)\\n    :Number of Attributes: 13 numeric, predictive attributes and the class\\n    :Attribute Information:\\n \\t\\t- Alcohol\\n \\t\\t- Malic acid\\n \\t\\t- Ash\\n\\t\\t- Alcalinity of ash  \\n \\t\\t- Magnesium\\n\\t\\t- Total phenols\\n \\t\\t- Flavanoids\\n \\t\\t- Nonflavanoid phenols\\n \\t\\t- Proanthocyanins\\n\\t\\t- Color intensity\\n \\t\\t- Hue\\n \\t\\t- OD280/OD315 of diluted wines\\n \\t\\t- Proline\\n\\n    - class:\\n            - class_0\\n            - class_1\\n            - class_2\\n\\t\\t\\n    :Summary Statistics:\\n    \\n    ============================= ==== ===== ======= =====\\n                                   Min   Max   Mean     SD\\n    ============================= ==== ===== ======= =====\\n    Alcohol:                      11.0  14.8    13.0   0.8\\n    Malic Acid:                   0.74  5.80    2.34  1.12\\n    Ash:                          1.36  3.23    2.36  0.27\\n    Alcalinity of Ash:            10.6  30.0    19.5   3.3\\n    Magnesium:                    70.0 162.0    99.7  14.3\\n    Total Phenols:                0.98  3.88    2.29  0.63\\n    Flavanoids:                   0.34  5.08    2.03  1.00\\n    Nonflavanoid Phenols:         0.13  0.66    0.36  0.12\\n    Proanthocyanins:              0.41  3.58    1.59  0.57\\n    Colour Intensity:              1.3  13.0     5.1   2.3\\n    Hue:                          0.48  1.71    0.96  0.23\\n    OD280/OD315 of diluted wines: 1.27  4.00    2.61  0.71\\n    Proline:                       278  1680     746   315\\n    ============================= ==== ===== ======= =====\\n\\n    :Missing Attribute Values: None\\n    :Class Distribution: class_0 (59), class_1 (71), class_2 (48)\\n    :Creator: R.A. Fisher\\n    :Donor: Michael Marshall (MARSHALL%PLU@io.arc.nasa.gov)\\n    :Date: July, 1988\\n\\nThis is a copy of UCI ML Wine recognition datasets.\\nhttps://archive.ics.uci.edu/ml/machine-learning-databases/wine/wine.data\\n\\nThe data is the results of a chemical analysis of wines grown in the same\\nregion in Italy by three different cultivators. There are thirteen different\\nmeasurements taken for different constituents found in the three types of\\nwine.\\n\\nOriginal Owners: \\n\\nForina, M. et al, PARVUS - \\nAn Extendible Package for Data Exploration, Classification and Correlation. \\nInstitute of Pharmaceutical and Food Analysis and Technologies,\\nVia Brigata Salerno, 16147 Genoa, Italy.\\n\\nCitation:\\n\\nLichman, M. (2013). UCI Machine Learning Repository\\n[https://archive.ics.uci.edu/ml]. Irvine, CA: University of California,\\nSchool of Information and Computer Science. \\n\\n.. topic:: References\\n\\n  (1) S. Aeberhard, D. Coomans and O. de Vel, \\n  Comparison of Classifiers in High Dimensional Settings, \\n  Tech. Rep. no. 92-02, (1992), Dept. of Computer Science and Dept. of  \\n  Mathematics and Statistics, James Cook University of North Queensland. \\n  (Also submitted to Technometrics). \\n\\n  The data was used with many others for comparing various \\n  classifiers. The classes are separable, though only RDA \\n  has achieved 100% correct classification. \\n  (RDA : 100%, QDA 99.4%, LDA 98.9%, 1NN 96.1% (z-transformed data)) \\n  (All results using the leave-one-out technique) \\n\\n  (2) S. Aeberhard, D. Coomans and O. de Vel, \\n  \"THE CLASSIFICATION PERFORMANCE OF RDA\" \\n  Tech. Rep. no. 92-01, (1992), Dept. of Computer Science and Dept. of \\n  Mathematics and Statistics, James Cook University of North Queensland. \\n  (Also submitted to Journal of Chemometrics).\\n',\n",
       " 'feature_names': ['alcohol',\n",
       "  'malic_acid',\n",
       "  'ash',\n",
       "  'alcalinity_of_ash',\n",
       "  'magnesium',\n",
       "  'total_phenols',\n",
       "  'flavanoids',\n",
       "  'nonflavanoid_phenols',\n",
       "  'proanthocyanins',\n",
       "  'color_intensity',\n",
       "  'hue',\n",
       "  'od280/od315_of_diluted_wines',\n",
       "  'proline']}"
      ]
     },
     "execution_count": 30,
     "metadata": {},
     "output_type": "execute_result"
    }
   ],
   "source": [
    "#We'll start by importing a dataset from sklearn and use one of its columns/labels to learn numpy\n",
    "df = load_wine()\n",
    "df"
   ]
  },
  {
   "cell_type": "code",
   "execution_count": 31,
   "id": "212c4b83",
   "metadata": {},
   "outputs": [
    {
     "data": {
      "text/plain": [
       "array([[1.423e+01, 1.710e+00, 2.430e+00, ..., 1.040e+00, 3.920e+00,\n",
       "        1.065e+03],\n",
       "       [1.320e+01, 1.780e+00, 2.140e+00, ..., 1.050e+00, 3.400e+00,\n",
       "        1.050e+03],\n",
       "       [1.316e+01, 2.360e+00, 2.670e+00, ..., 1.030e+00, 3.170e+00,\n",
       "        1.185e+03],\n",
       "       ...,\n",
       "       [1.327e+01, 4.280e+00, 2.260e+00, ..., 5.900e-01, 1.560e+00,\n",
       "        8.350e+02],\n",
       "       [1.317e+01, 2.590e+00, 2.370e+00, ..., 6.000e-01, 1.620e+00,\n",
       "        8.400e+02],\n",
       "       [1.413e+01, 4.100e+00, 2.740e+00, ..., 6.100e-01, 1.600e+00,\n",
       "        5.600e+02]])"
      ]
     },
     "execution_count": 31,
     "metadata": {},
     "output_type": "execute_result"
    }
   ],
   "source": [
    "df['data'] "
   ]
  },
  {
   "cell_type": "code",
   "execution_count": 32,
   "id": "ab9e0c5a",
   "metadata": {},
   "outputs": [
    {
     "data": {
      "text/plain": [
       "array([[1.423e+01, 1.710e+00, 2.430e+00, ..., 1.040e+00, 3.920e+00,\n",
       "        1.065e+03],\n",
       "       [1.320e+01, 1.780e+00, 2.140e+00, ..., 1.050e+00, 3.400e+00,\n",
       "        1.050e+03],\n",
       "       [1.316e+01, 2.360e+00, 2.670e+00, ..., 1.030e+00, 3.170e+00,\n",
       "        1.185e+03],\n",
       "       ...,\n",
       "       [1.327e+01, 4.280e+00, 2.260e+00, ..., 5.900e-01, 1.560e+00,\n",
       "        8.350e+02],\n",
       "       [1.317e+01, 2.590e+00, 2.370e+00, ..., 6.000e-01, 1.620e+00,\n",
       "        8.400e+02],\n",
       "       [1.413e+01, 4.100e+00, 2.740e+00, ..., 6.100e-01, 1.600e+00,\n",
       "        5.600e+02]])"
      ]
     },
     "execution_count": 32,
     "metadata": {},
     "output_type": "execute_result"
    }
   ],
   "source": [
    "wine_array = df['data']\n",
    "wine_array"
   ]
  },
  {
   "cell_type": "code",
   "execution_count": 33,
   "id": "57654109",
   "metadata": {},
   "outputs": [
    {
     "data": {
      "text/plain": [
       "array([14.23, 13.2 , 13.16, 14.37, 13.24, 14.2 , 14.39, 14.06, 14.83,\n",
       "       13.86, 14.1 , 14.12, 13.75, 14.75, 14.38, 13.63, 14.3 , 13.83,\n",
       "       14.19, 13.64, 14.06, 12.93, 13.71, 12.85, 13.5 , 13.05, 13.39,\n",
       "       13.3 , 13.87, 14.02, 13.73, 13.58, 13.68, 13.76, 13.51, 13.48,\n",
       "       13.28, 13.05, 13.07, 14.22, 13.56, 13.41, 13.88, 13.24, 13.05,\n",
       "       14.21, 14.38, 13.9 , 14.1 , 13.94, 13.05, 13.83, 13.82, 13.77,\n",
       "       13.74, 13.56, 14.22, 13.29, 13.72, 12.37, 12.33, 12.64, 13.67,\n",
       "       12.37, 12.17, 12.37, 13.11, 12.37, 13.34, 12.21, 12.29, 13.86,\n",
       "       13.49, 12.99, 11.96, 11.66, 13.03, 11.84, 12.33, 12.7 , 12.  ,\n",
       "       12.72, 12.08, 13.05, 11.84, 12.67, 12.16, 11.65, 11.64, 12.08,\n",
       "       12.08, 12.  , 12.69, 12.29, 11.62, 12.47, 11.81, 12.29, 12.37,\n",
       "       12.29, 12.08, 12.6 , 12.34, 11.82, 12.51, 12.42, 12.25, 12.72,\n",
       "       12.22, 11.61, 11.46, 12.52, 11.76, 11.41, 12.08, 11.03, 11.82,\n",
       "       12.42, 12.77, 12.  , 11.45, 11.56, 12.42, 13.05, 11.87, 12.07,\n",
       "       12.43, 11.79, 12.37, 12.04, 12.86, 12.88, 12.81, 12.7 , 12.51,\n",
       "       12.6 , 12.25, 12.53, 13.49, 12.84, 12.93, 13.36, 13.52, 13.62,\n",
       "       12.25, 13.16, 13.88, 12.87, 13.32, 13.08, 13.5 , 12.79, 13.11,\n",
       "       13.23, 12.58, 13.17, 13.84, 12.45, 14.34, 13.48, 12.36, 13.69,\n",
       "       12.85, 12.96, 13.78, 13.73, 13.45, 12.82, 13.58, 13.4 , 12.2 ,\n",
       "       12.77, 14.16, 13.71, 13.4 , 13.27, 13.17, 14.13])"
      ]
     },
     "execution_count": 33,
     "metadata": {},
     "output_type": "execute_result"
    }
   ],
   "source": [
    "alcohol = wine_array[:, 0]\n",
    "alcohol"
   ]
  },
  {
   "cell_type": "code",
   "execution_count": 34,
   "id": "9a07c4d2",
   "metadata": {},
   "outputs": [
    {
     "data": {
      "text/plain": [
       "13.00061797752809"
      ]
     },
     "execution_count": 34,
     "metadata": {},
     "output_type": "execute_result"
    }
   ],
   "source": [
    "#Mean\n",
    "np.mean(alcohol)"
   ]
  },
  {
   "cell_type": "code",
   "execution_count": 36,
   "id": "7baa7135",
   "metadata": {},
   "outputs": [
    {
     "data": {
      "text/plain": [
       "array([[1, 4, 9]], dtype=int32)"
      ]
     },
     "execution_count": 36,
     "metadata": {},
     "output_type": "execute_result"
    }
   ],
   "source": [
    "#Square \n",
    "np.square(arr)"
   ]
  },
  {
   "cell_type": "code",
   "execution_count": 37,
   "id": "91264537",
   "metadata": {},
   "outputs": [
    {
     "data": {
      "text/plain": [
       "11.03"
      ]
     },
     "execution_count": 37,
     "metadata": {},
     "output_type": "execute_result"
    }
   ],
   "source": [
    "#Minimum\n",
    "np.min(alcohol)"
   ]
  },
  {
   "cell_type": "code",
   "execution_count": 39,
   "id": "53943174",
   "metadata": {},
   "outputs": [
    {
     "data": {
      "text/plain": [
       "14.83"
      ]
     },
     "execution_count": 39,
     "metadata": {},
     "output_type": "execute_result"
    }
   ],
   "source": [
    "#Maximum\n",
    "np.max(alcohol)"
   ]
  },
  {
   "cell_type": "code",
   "execution_count": 40,
   "id": "a91db680",
   "metadata": {},
   "outputs": [
    {
     "data": {
      "text/plain": [
       "0.8095429145285168"
      ]
     },
     "execution_count": 40,
     "metadata": {},
     "output_type": "execute_result"
    }
   ],
   "source": [
    "#Standard Deviation\n",
    "np.std(alcohol)"
   ]
  },
  {
   "cell_type": "code",
   "execution_count": 41,
   "id": "72ad7632",
   "metadata": {},
   "outputs": [],
   "source": [
    "#Filtering using boolean masks\n",
    "alcohol_under_13_boolean_mask = alcohol < 13"
   ]
  },
  {
   "cell_type": "code",
   "execution_count": 43,
   "id": "6ac576d7",
   "metadata": {},
   "outputs": [
    {
     "data": {
      "text/plain": [
       "array([[1.293e+01, 3.800e+00, 2.650e+00, ..., 1.030e+00, 3.520e+00,\n",
       "        7.700e+02],\n",
       "       [1.285e+01, 1.600e+00, 2.520e+00, ..., 1.090e+00, 3.630e+00,\n",
       "        1.015e+03],\n",
       "       [1.237e+01, 9.400e-01, 1.360e+00, ..., 1.050e+00, 1.820e+00,\n",
       "        5.200e+02],\n",
       "       ...,\n",
       "       [1.282e+01, 3.370e+00, 2.300e+00, ..., 7.200e-01, 1.750e+00,\n",
       "        6.850e+02],\n",
       "       [1.220e+01, 3.030e+00, 2.320e+00, ..., 6.600e-01, 1.830e+00,\n",
       "        5.100e+02],\n",
       "       [1.277e+01, 2.390e+00, 2.280e+00, ..., 5.700e-01, 1.630e+00,\n",
       "        4.700e+02]])"
      ]
     },
     "execution_count": 43,
     "metadata": {},
     "output_type": "execute_result"
    }
   ],
   "source": [
    "wine_array[alcohol_under_13_boolean_mask]"
   ]
  },
  {
   "cell_type": "code",
   "execution_count": 44,
   "id": "3a97085b",
   "metadata": {},
   "outputs": [
    {
     "data": {
      "text/plain": [
       "(86, 13)"
      ]
     },
     "execution_count": 44,
     "metadata": {},
     "output_type": "execute_result"
    }
   ],
   "source": [
    "wine_array[alcohol_under_13_boolean_mask].shape"
   ]
  },
  {
   "cell_type": "code",
   "execution_count": 47,
   "id": "64f3cb0c",
   "metadata": {},
   "outputs": [
    {
     "data": {
      "text/plain": [
       "array([ True, False, False, False, False, False, False,  True, False,\n",
       "       False, False, False, False, False, False, False, False, False,\n",
       "       False, False,  True, False, False, False, False,  True, False,\n",
       "       False, False, False, False, False, False,  True, False, False,\n",
       "       False, False, False,  True, False, False, False, False, False,\n",
       "       False, False, False, False, False, False, False, False, False,\n",
       "       False, False, False, False, False, False, False, False, False,\n",
       "       False, False, False, False, False, False,  True, False, False,\n",
       "       False,  True, False, False, False, False,  True, False, False,\n",
       "       False, False, False, False, False, False, False, False, False,\n",
       "       False, False, False, False, False,  True,  True, False, False,\n",
       "       False, False, False, False, False, False, False, False, False,\n",
       "       False, False, False, False, False, False, False, False, False,\n",
       "       False, False, False, False, False, False, False, False, False,\n",
       "       False, False, False, False,  True, False, False, False, False,\n",
       "       False, False, False, False, False, False, False, False, False,\n",
       "       False, False, False, False, False, False,  True, False, False,\n",
       "       False, False, False, False, False, False, False, False, False,\n",
       "       False, False, False, False, False, False, False, False, False,\n",
       "       False, False, False, False, False, False, False])"
      ]
     },
     "execution_count": 47,
     "metadata": {},
     "output_type": "execute_result"
    }
   ],
   "source": [
    "magnesium = wine_array[:, 4]\n",
    "magnesium_over_120_boolean_mask = magnesium > 120\n",
    "magnesium_over_120_boolean_mask"
   ]
  },
  {
   "cell_type": "code",
   "execution_count": 48,
   "id": "8d573539",
   "metadata": {},
   "outputs": [],
   "source": [
    "combined_mask = alcohol_under_13_boolean_mask & magnesium_over_120_boolean_mask"
   ]
  },
  {
   "cell_type": "code",
   "execution_count": 51,
   "id": "ba3bc58c",
   "metadata": {},
   "outputs": [
    {
     "data": {
      "text/plain": [
       "array([[ 12.21, 151.  ],\n",
       "       [ 12.99, 139.  ],\n",
       "       [ 12.33, 136.  ],\n",
       "       [ 12.47, 162.  ],\n",
       "       [ 11.81, 134.  ],\n",
       "       [ 12.86, 122.  ]])"
      ]
     },
     "execution_count": 51,
     "metadata": {},
     "output_type": "execute_result"
    }
   ],
   "source": [
    "wine_array[combined_mask][:, (0,4)]"
   ]
  },
  {
   "cell_type": "code",
   "execution_count": 52,
   "id": "f0f1cd83",
   "metadata": {},
   "outputs": [
    {
     "data": {
      "text/plain": [
       "array([[1.221e+01, 1.190e+00, 1.750e+00, 1.680e+01, 1.510e+02, 1.850e+00,\n",
       "        1.280e+00, 1.400e-01, 2.500e+00, 2.850e+00, 1.280e+00, 3.070e+00,\n",
       "        7.180e+02],\n",
       "       [1.299e+01, 1.670e+00, 2.600e+00, 3.000e+01, 1.390e+02, 3.300e+00,\n",
       "        2.890e+00, 2.100e-01, 1.960e+00, 3.350e+00, 1.310e+00, 3.500e+00,\n",
       "        9.850e+02],\n",
       "       [1.233e+01, 9.900e-01, 1.950e+00, 1.480e+01, 1.360e+02, 1.900e+00,\n",
       "        1.850e+00, 3.500e-01, 2.760e+00, 3.400e+00, 1.060e+00, 2.310e+00,\n",
       "        7.500e+02],\n",
       "       [1.247e+01, 1.520e+00, 2.200e+00, 1.900e+01, 1.620e+02, 2.500e+00,\n",
       "        2.270e+00, 3.200e-01, 3.280e+00, 2.600e+00, 1.160e+00, 2.630e+00,\n",
       "        9.370e+02],\n",
       "       [1.181e+01, 2.120e+00, 2.740e+00, 2.150e+01, 1.340e+02, 1.600e+00,\n",
       "        9.900e-01, 1.400e-01, 1.560e+00, 2.500e+00, 9.500e-01, 2.260e+00,\n",
       "        6.250e+02],\n",
       "       [1.286e+01, 1.350e+00, 2.320e+00, 1.800e+01, 1.220e+02, 1.510e+00,\n",
       "        1.250e+00, 2.100e-01, 9.400e-01, 4.100e+00, 7.600e-01, 1.290e+00,\n",
       "        6.300e+02]])"
      ]
     },
     "execution_count": 52,
     "metadata": {},
     "output_type": "execute_result"
    }
   ],
   "source": [
    "wine_array[\n",
    "    (alcohol < 13) &\n",
    "    (magnesium > 120)\n",
    "]"
   ]
  },
  {
   "cell_type": "markdown",
   "id": "33d39156",
   "metadata": {},
   "source": [
    "# If..then content\n"
   ]
  },
  {
   "cell_type": "code",
   "execution_count": 53,
   "id": "9124dd95",
   "metadata": {},
   "outputs": [
    {
     "data": {
      "text/plain": [
       "array([14.23, 13.2 , 13.16, 14.37, 13.24, 14.2 , 14.39, 14.06, 14.83,\n",
       "       13.86, 14.1 , 14.12, 13.75, 14.75, 14.38, 13.63, 14.3 , 13.83,\n",
       "       14.19, 13.64, 14.06, 12.93, 13.71, 12.85, 13.5 , 13.05, 13.39,\n",
       "       13.3 , 13.87, 14.02, 13.73, 13.58, 13.68, 13.76, 13.51, 13.48,\n",
       "       13.28, 13.05, 13.07, 14.22, 13.56, 13.41, 13.88, 13.24, 13.05,\n",
       "       14.21, 14.38, 13.9 , 14.1 , 13.94, 13.05, 13.83, 13.82, 13.77,\n",
       "       13.74, 13.56, 14.22, 13.29, 13.72, 12.37, 12.33, 12.64, 13.67,\n",
       "       12.37, 12.17, 12.37, 13.11, 12.37, 13.34, 12.21, 12.29, 13.86,\n",
       "       13.49, 12.99, 11.96, 11.66, 13.03, 11.84, 12.33, 12.7 , 12.  ,\n",
       "       12.72, 12.08, 13.05, 11.84, 12.67, 12.16, 11.65, 11.64, 12.08,\n",
       "       12.08, 12.  , 12.69, 12.29, 11.62, 12.47, 11.81, 12.29, 12.37,\n",
       "       12.29, 12.08, 12.6 , 12.34, 11.82, 12.51, 12.42, 12.25, 12.72,\n",
       "       12.22, 11.61, 11.46, 12.52, 11.76, 11.41, 12.08, 11.03, 11.82,\n",
       "       12.42, 12.77, 12.  , 11.45, 11.56, 12.42, 13.05, 11.87, 12.07,\n",
       "       12.43, 11.79, 12.37, 12.04, 12.86, 12.88, 12.81, 12.7 , 12.51,\n",
       "       12.6 , 12.25, 12.53, 13.49, 12.84, 12.93, 13.36, 13.52, 13.62,\n",
       "       12.25, 13.16, 13.88, 12.87, 13.32, 13.08, 13.5 , 12.79, 13.11,\n",
       "       13.23, 12.58, 13.17, 13.84, 12.45, 14.34, 13.48, 12.36, 13.69,\n",
       "       12.85, 12.96, 13.78, 13.73, 13.45, 12.82, 13.58, 13.4 , 12.2 ,\n",
       "       12.77, 14.16, 13.71, 13.4 , 13.27, 13.17, 14.13])"
      ]
     },
     "execution_count": 53,
     "metadata": {},
     "output_type": "execute_result"
    }
   ],
   "source": [
    "alcohol"
   ]
  },
  {
   "cell_type": "code",
   "execution_count": 55,
   "id": "daa48e2d",
   "metadata": {},
   "outputs": [
    {
     "data": {
      "text/plain": [
       "array(['low alcohol', 'low alcohol', 'low alcohol', 'low alcohol',\n",
       "       'low alcohol', 'low alcohol', 'low alcohol', 'low alcohol',\n",
       "       'low alcohol', 'low alcohol', 'low alcohol', 'low alcohol',\n",
       "       'low alcohol', 'low alcohol', 'low alcohol', 'low alcohol',\n",
       "       'low alcohol', 'low alcohol', 'low alcohol', 'low alcohol',\n",
       "       'low alcohol', 'low alcohol', 'low alcohol', 'low alcohol',\n",
       "       'low alcohol', 'low alcohol', 'low alcohol', 'low alcohol',\n",
       "       'low alcohol', 'low alcohol', 'low alcohol', 'low alcohol',\n",
       "       'low alcohol', 'low alcohol', 'low alcohol', 'low alcohol',\n",
       "       'low alcohol', 'low alcohol', 'low alcohol', 'low alcohol',\n",
       "       'low alcohol', 'low alcohol', 'low alcohol', 'low alcohol',\n",
       "       'low alcohol', 'low alcohol', 'low alcohol', 'low alcohol',\n",
       "       'low alcohol', 'low alcohol', 'low alcohol', 'low alcohol',\n",
       "       'low alcohol', 'low alcohol', 'low alcohol', 'low alcohol',\n",
       "       'low alcohol', 'low alcohol', 'low alcohol', 'low alcohol',\n",
       "       'low alcohol', 'low alcohol', 'low alcohol', 'low alcohol',\n",
       "       'low alcohol', 'low alcohol', 'low alcohol', 'low alcohol',\n",
       "       'low alcohol', 'low alcohol', 'low alcohol', 'low alcohol',\n",
       "       'low alcohol', 'low alcohol', 'other', 'other', 'low alcohol',\n",
       "       'other', 'low alcohol', 'low alcohol', 'other', 'low alcohol',\n",
       "       'low alcohol', 'low alcohol', 'other', 'low alcohol',\n",
       "       'low alcohol', 'other', 'other', 'low alcohol', 'low alcohol',\n",
       "       'other', 'low alcohol', 'low alcohol', 'other', 'low alcohol',\n",
       "       'other', 'low alcohol', 'low alcohol', 'low alcohol',\n",
       "       'low alcohol', 'low alcohol', 'low alcohol', 'other',\n",
       "       'low alcohol', 'low alcohol', 'low alcohol', 'low alcohol',\n",
       "       'low alcohol', 'other', 'other', 'low alcohol', 'other', 'other',\n",
       "       'low alcohol', 'other', 'other', 'low alcohol', 'low alcohol',\n",
       "       'other', 'other', 'other', 'low alcohol', 'low alcohol', 'other',\n",
       "       'low alcohol', 'low alcohol', 'other', 'low alcohol',\n",
       "       'low alcohol', 'low alcohol', 'low alcohol', 'low alcohol',\n",
       "       'low alcohol', 'low alcohol', 'low alcohol', 'low alcohol',\n",
       "       'low alcohol', 'low alcohol', 'low alcohol', 'low alcohol',\n",
       "       'low alcohol', 'low alcohol', 'low alcohol', 'low alcohol',\n",
       "       'low alcohol', 'low alcohol', 'low alcohol', 'low alcohol',\n",
       "       'low alcohol', 'low alcohol', 'low alcohol', 'low alcohol',\n",
       "       'low alcohol', 'low alcohol', 'low alcohol', 'low alcohol',\n",
       "       'low alcohol', 'low alcohol', 'low alcohol', 'low alcohol',\n",
       "       'low alcohol', 'low alcohol', 'low alcohol', 'low alcohol',\n",
       "       'low alcohol', 'low alcohol', 'low alcohol', 'low alcohol',\n",
       "       'low alcohol', 'low alcohol', 'low alcohol', 'low alcohol',\n",
       "       'low alcohol', 'low alcohol', 'low alcohol', 'low alcohol',\n",
       "       'low alcohol'], dtype='<U11')"
      ]
     },
     "execution_count": 55,
     "metadata": {},
     "output_type": "execute_result"
    }
   ],
   "source": [
    "np.where(alcohol > 12, \"low alcohol\" , \"other\")"
   ]
  },
  {
   "cell_type": "code",
   "execution_count": 56,
   "id": "97ef526b",
   "metadata": {},
   "outputs": [
    {
     "data": {
      "text/plain": [
       "array([11.03, 11.41, 11.45, 11.46, 11.56, 11.61, 11.62, 11.64, 11.65,\n",
       "       11.66, 11.76, 11.79, 11.81, 11.82, 11.82, 11.84, 11.84, 11.87,\n",
       "       11.96, 12.  , 12.  , 12.  , 12.04, 12.07, 12.08, 12.08, 12.08,\n",
       "       12.08, 12.08, 12.16, 12.17, 12.2 , 12.21, 12.22, 12.25, 12.25,\n",
       "       12.25, 12.29, 12.29, 12.29, 12.29, 12.33, 12.33, 12.34, 12.36,\n",
       "       12.37, 12.37, 12.37, 12.37, 12.37, 12.37, 12.42, 12.42, 12.42,\n",
       "       12.43, 12.45, 12.47, 12.51, 12.51, 12.52, 12.53, 12.58, 12.6 ,\n",
       "       12.6 , 12.64, 12.67, 12.69, 12.7 , 12.7 , 12.72, 12.72, 12.77,\n",
       "       12.77, 12.79, 12.81, 12.82, 12.84, 12.85, 12.85, 12.86, 12.87,\n",
       "       12.88, 12.93, 12.93, 12.96, 12.99, 13.03, 13.05, 13.05, 13.05,\n",
       "       13.05, 13.05, 13.05, 13.07, 13.08, 13.11, 13.11, 13.16, 13.16,\n",
       "       13.17, 13.17, 13.2 , 13.23, 13.24, 13.24, 13.27, 13.28, 13.29,\n",
       "       13.3 , 13.32, 13.34, 13.36, 13.39, 13.4 , 13.4 , 13.41, 13.45,\n",
       "       13.48, 13.48, 13.49, 13.49, 13.5 , 13.5 , 13.51, 13.52, 13.56,\n",
       "       13.56, 13.58, 13.58, 13.62, 13.63, 13.64, 13.67, 13.68, 13.69,\n",
       "       13.71, 13.71, 13.72, 13.73, 13.73, 13.74, 13.75, 13.76, 13.77,\n",
       "       13.78, 13.82, 13.83, 13.83, 13.84, 13.86, 13.86, 13.87, 13.88,\n",
       "       13.88, 13.9 , 13.94, 14.02, 14.06, 14.06, 14.1 , 14.1 , 14.12,\n",
       "       14.13, 14.16, 14.19, 14.2 , 14.21, 14.22, 14.22, 14.23, 14.3 ,\n",
       "       14.34, 14.37, 14.38, 14.38, 14.39, 14.75, 14.83])"
      ]
     },
     "execution_count": 56,
     "metadata": {},
     "output_type": "execute_result"
    }
   ],
   "source": [
    "np.sort(alcohol)"
   ]
  },
  {
   "cell_type": "code",
   "execution_count": 61,
   "id": "72060563",
   "metadata": {},
   "outputs": [
    {
     "data": {
      "text/plain": [
       "array([115, 113, 120, 110, 121, 109,  94,  88,  87,  75, 112, 127,  96,\n",
       "       103, 116,  84,  77, 124,  74, 119,  91,  80, 129, 125,  82, 114,\n",
       "        89,  90, 100,  86,  64, 170,  69, 108, 144, 136, 106,  97,  70,\n",
       "        93,  99,  60,  78, 102, 160,  67,  65,  63,  98, 128,  59, 105,\n",
       "       122, 117, 126, 157,  95, 104, 134, 111, 137, 154, 135, 101,  61,\n",
       "        85,  92,  79, 133, 107,  81, 171, 118, 151, 132, 167, 139,  23,\n",
       "       162, 130, 147, 131,  21, 140, 163,  73,  76, 123,  44,  25,  83,\n",
       "        37,  50,  38, 149,  66, 152, 145,   2, 176, 155,   1, 153,   4,\n",
       "        43, 175,  36,  57,  27, 148,  68, 141,  26, 174, 169,  41, 166,\n",
       "       159,  35, 138,  72, 150,  24,  34, 142,  55,  40,  31, 168, 143,\n",
       "        15,  19,  62,  32, 161,  22, 173,  58,  30, 165,  54,  12,  33,\n",
       "        53, 164,  52,  51,  17, 156,  71,   9,  28,  42, 146,  47,  49,\n",
       "        29,  20,   7,  48,  10,  11, 177, 172,  18,   5,  45,  56,  39,\n",
       "         0,  16, 158,   3,  46,  14,   6,  13,   8], dtype=int64)"
      ]
     },
     "execution_count": 61,
     "metadata": {},
     "output_type": "execute_result"
    }
   ],
   "source": [
    "#Sorts using indexes\n",
    "np.argsort(alcohol)"
   ]
  },
  {
   "cell_type": "code",
   "execution_count": null,
   "id": "9bb5cde1",
   "metadata": {},
   "outputs": [],
   "source": []
  }
 ],
 "metadata": {
  "kernelspec": {
   "display_name": "Python 3 (ipykernel)",
   "language": "python",
   "name": "python3"
  },
  "language_info": {
   "codemirror_mode": {
    "name": "ipython",
    "version": 3
   },
   "file_extension": ".py",
   "mimetype": "text/x-python",
   "name": "python",
   "nbconvert_exporter": "python",
   "pygments_lexer": "ipython3",
   "version": "3.9.7"
  }
 },
 "nbformat": 4,
 "nbformat_minor": 5
}
